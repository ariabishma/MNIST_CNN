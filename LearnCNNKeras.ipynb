{
  "nbformat": 4,
  "nbformat_minor": 0,
  "metadata": {
    "colab": {
      "name": "LearnCNNKeras.ipynb",
      "provenance": [],
      "collapsed_sections": []
    },
    "kernelspec": {
      "name": "python3",
      "display_name": "Python 3"
    },
    "accelerator": "GPU"
  },
  "cells": [
    {
      "cell_type": "markdown",
      "metadata": {
        "id": "cwrp45QlYRan",
        "colab_type": "text"
      },
      "source": [
        "# Learning Convolution Neural Network\n",
        "\n",
        "---\n",
        "\n",
        "Mnist Datasets (60000 Handwritten Training Images - 1000 Handwritten Testing Images)\n",
        "\n",
        " > Recognizing Handwritten digits\n",
        "\n",
        "Authored By : Moch. Aria Bishma Fauzan"
      ]
    },
    {
      "cell_type": "code",
      "metadata": {
        "id": "kLJXldgIZCLA",
        "colab_type": "code",
        "outputId": "c1fb1183-44c8-4f12-bc7a-36af7631456e",
        "colab": {
          "base_uri": "https://localhost:8080/",
          "height": 34
        }
      },
      "source": [
        "import tensorflow as tf\n",
        "\n",
        "from tensorflow import keras \n",
        "from tensorflow.keras.models import Sequential, Model\n",
        "from tensorflow.keras.layers import Input, Dense, Conv2D, MaxPooling2D, Flatten, Dropout\n",
        "from tensorflow.keras.optimizers import Adam\n",
        "from tensorflow.keras.utils import to_categorical\n",
        "\n",
        "import numpy as np\n",
        "from matplotlib import pyplot as plt\n",
        "\n",
        "\n",
        "from keras.datasets import mnist"
      ],
      "execution_count": 0,
      "outputs": [
        {
          "output_type": "stream",
          "text": [
            "Using TensorFlow backend.\n"
          ],
          "name": "stderr"
        }
      ]
    },
    {
      "cell_type": "code",
      "metadata": {
        "id": "t3Ne6MZSYXhb",
        "colab_type": "code",
        "outputId": "5580d2db-9a10-464c-a0d8-8cc36ba3589a",
        "colab": {
          "base_uri": "https://localhost:8080/",
          "height": 52
        }
      },
      "source": [
        " (x_train, y_train), (x_test, y_test) = mnist.load_data()"
      ],
      "execution_count": 0,
      "outputs": [
        {
          "output_type": "stream",
          "text": [
            "Downloading data from https://s3.amazonaws.com/img-datasets/mnist.npz\n",
            "11493376/11490434 [==============================] - 1s 0us/step\n"
          ],
          "name": "stdout"
        }
      ]
    },
    {
      "cell_type": "code",
      "metadata": {
        "id": "hV5uCCjjYdm7",
        "colab_type": "code",
        "colab": {}
      },
      "source": [
        "img_cols = 28\n",
        "img_rows = 28\n",
        "num_classes = 10\n",
        "\n",
        "# reshape training data\n",
        "x_train_data = x_train.reshape(x_train.shape[0],img_cols,img_rows,1)\n",
        "x_test_data  = x_test.reshape(x_test.shape[0],img_cols,img_rows,1)\n",
        "\n",
        "y_train_data = to_categorical(y_train)\n",
        "y_test_data = to_categorical(y_test)"
      ],
      "execution_count": 0,
      "outputs": []
    },
    {
      "cell_type": "code",
      "metadata": {
        "id": "3DPB8CoMq-8z",
        "colab_type": "code",
        "colab": {}
      },
      "source": [
        "model = Sequential()\n",
        "\n",
        "model.add(Conv2D(32,(3,3),activation=\"relu\",input_shape=(img_cols,img_rows,1)))\n",
        "model.add(Conv2D(64,(3,3),activation=\"relu\"))\n",
        "model.add(MaxPooling2D(pool_size=(2,2)))\n",
        "\n",
        "model.add(Flatten())\n",
        "\n",
        "model.add(Dense(128, activation='relu'))\n",
        "model.add(Dropout(0.5))\n",
        "\n",
        "model.add(Dense(num_classes, activation='softmax'))"
      ],
      "execution_count": 0,
      "outputs": []
    },
    {
      "cell_type": "code",
      "metadata": {
        "id": "-gHnp9kw04jA",
        "colab_type": "code",
        "outputId": "93ddcff2-368e-4bd0-842e-5fb02078ec29",
        "colab": {
          "base_uri": "https://localhost:8080/",
          "height": 712
        }
      },
      "source": [
        "model.compile(loss=keras.losses.categorical_crossentropy,\n",
        "              optimizer=keras.optimizers.Adadelta(),\n",
        "              metrics=['accuracy'])\n",
        "\n",
        "history = model.fit(x_train_data, y_train_data,\n",
        "          batch_size=125,\n",
        "          epochs=20,\n",
        "          verbose=1,\n",
        "          validation_data=(x_test_data, y_test_data))"
      ],
      "execution_count": 0,
      "outputs": [
        {
          "output_type": "stream",
          "text": [
            "Epoch 1/20\n",
            "480/480 [==============================] - 4s 9ms/step - loss: 0.5423 - accuracy: 0.8439 - val_loss: 0.2509 - val_accuracy: 0.9290\n",
            "Epoch 2/20\n",
            "480/480 [==============================] - 4s 9ms/step - loss: 0.5313 - accuracy: 0.8438 - val_loss: 0.2472 - val_accuracy: 0.9301\n",
            "Epoch 3/20\n",
            "480/480 [==============================] - 4s 9ms/step - loss: 0.5224 - accuracy: 0.8491 - val_loss: 0.2422 - val_accuracy: 0.9313\n",
            "Epoch 4/20\n",
            "480/480 [==============================] - 4s 9ms/step - loss: 0.5158 - accuracy: 0.8521 - val_loss: 0.2387 - val_accuracy: 0.9327\n",
            "Epoch 5/20\n",
            "480/480 [==============================] - 4s 9ms/step - loss: 0.5000 - accuracy: 0.8558 - val_loss: 0.2334 - val_accuracy: 0.9339\n",
            "Epoch 6/20\n",
            "480/480 [==============================] - 4s 9ms/step - loss: 0.4993 - accuracy: 0.8571 - val_loss: 0.2305 - val_accuracy: 0.9338\n",
            "Epoch 7/20\n",
            "480/480 [==============================] - 4s 9ms/step - loss: 0.4953 - accuracy: 0.8580 - val_loss: 0.2266 - val_accuracy: 0.9349\n",
            "Epoch 8/20\n",
            "480/480 [==============================] - 4s 9ms/step - loss: 0.4854 - accuracy: 0.8602 - val_loss: 0.2245 - val_accuracy: 0.9364\n",
            "Epoch 9/20\n",
            "480/480 [==============================] - 4s 9ms/step - loss: 0.4818 - accuracy: 0.8623 - val_loss: 0.2211 - val_accuracy: 0.9364\n",
            "Epoch 10/20\n",
            "480/480 [==============================] - 4s 9ms/step - loss: 0.4698 - accuracy: 0.8646 - val_loss: 0.2185 - val_accuracy: 0.9377\n",
            "Epoch 11/20\n",
            "480/480 [==============================] - 4s 9ms/step - loss: 0.4652 - accuracy: 0.8659 - val_loss: 0.2157 - val_accuracy: 0.9387\n",
            "Epoch 12/20\n",
            "480/480 [==============================] - 4s 9ms/step - loss: 0.4568 - accuracy: 0.8673 - val_loss: 0.2115 - val_accuracy: 0.9392\n",
            "Epoch 13/20\n",
            "480/480 [==============================] - 4s 9ms/step - loss: 0.4515 - accuracy: 0.8705 - val_loss: 0.2093 - val_accuracy: 0.9395\n",
            "Epoch 14/20\n",
            "480/480 [==============================] - 4s 9ms/step - loss: 0.4485 - accuracy: 0.8719 - val_loss: 0.2070 - val_accuracy: 0.9402\n",
            "Epoch 15/20\n",
            "480/480 [==============================] - 4s 9ms/step - loss: 0.4411 - accuracy: 0.8728 - val_loss: 0.2037 - val_accuracy: 0.9410\n",
            "Epoch 16/20\n",
            "480/480 [==============================] - 4s 9ms/step - loss: 0.4281 - accuracy: 0.8755 - val_loss: 0.2019 - val_accuracy: 0.9422\n",
            "Epoch 17/20\n",
            "480/480 [==============================] - 4s 9ms/step - loss: 0.4361 - accuracy: 0.8743 - val_loss: 0.1999 - val_accuracy: 0.9423\n",
            "Epoch 18/20\n",
            "480/480 [==============================] - 4s 9ms/step - loss: 0.4243 - accuracy: 0.8779 - val_loss: 0.1974 - val_accuracy: 0.9426\n",
            "Epoch 19/20\n",
            "480/480 [==============================] - 4s 9ms/step - loss: 0.4210 - accuracy: 0.8788 - val_loss: 0.1955 - val_accuracy: 0.9436\n",
            "Epoch 20/20\n",
            "480/480 [==============================] - 4s 9ms/step - loss: 0.4136 - accuracy: 0.8800 - val_loss: 0.1932 - val_accuracy: 0.9437\n"
          ],
          "name": "stdout"
        }
      ]
    },
    {
      "cell_type": "code",
      "metadata": {
        "id": "sfR_VIUQSzHC",
        "colab_type": "code",
        "outputId": "0197bfce-e4a2-4ce8-a291-bcbde656e4a0",
        "colab": {
          "base_uri": "https://localhost:8080/",
          "height": 312
        }
      },
      "source": [
        "plt.grid(1)\n",
        "plt.title(\"Training Graph\")\n",
        "plt.xlabel(\"epoch\")\n",
        "plt.plot(history.history['loss'])\n",
        "plt.plot(history.history['accuracy'],color=\"orange\")"
      ],
      "execution_count": 0,
      "outputs": [
        {
          "output_type": "execute_result",
          "data": {
            "text/plain": [
              "[<matplotlib.lines.Line2D at 0x7fbc92253748>]"
            ]
          },
          "metadata": {
            "tags": []
          },
          "execution_count": 8
        },
        {
          "output_type": "display_data",
          "data": {
            "image/png": "[encoded data removed]",
            "text/plain": [
              "<Figure size 432x288 with 1 Axes>"
            ]
          },
          "metadata": {
            "tags": []
          }
        }
      ]
    },
    {
      "cell_type": "code",
      "metadata": {
        "id": "LgHazJmwIubA",
        "colab_type": "code",
        "outputId": "f21cc2a5-5494-46e1-d995-32f4347d0fbb",
        "colab": {
          "base_uri": "https://localhost:8080/",
          "height": 296
        }
      },
      "source": [
        "image_num = np.random.randint(10)\n",
        "\n",
        "predict = np.argmax(model.predict(x_test_data[image_num].reshape(1,28,28,1)))\n",
        "\n",
        "plt.xlabel(\"My prediction of this image is :\"+str(predict))\n",
        "plt.imshow(x_test_data[image_num].reshape(28,28))"
      ],
      "execution_count": 0,
      "outputs": [
        {
          "output_type": "execute_result",
          "data": {
            "text/plain": [
              "<matplotlib.image.AxesImage at 0x7fbc922ba7b8>"
            ]
          },
          "metadata": {
            "tags": []
          },
          "execution_count": 18
        },
        {
          "output_type": "display_data",
          "data": {
            "image/png": "[encoded data removed]",
            "text/plain": [
              "<Figure size 432x288 with 1 Axes>"
            ]
          },
          "metadata": {
            "tags": []
          }
        }
      ]
    },
    {
      "cell_type": "code",
      "metadata": {
        "id": "10nS47sTPBJc",
        "colab_type": "code",
        "outputId": "a4e86bf7-0b75-48f8-960d-cf6f73024e0d",
        "colab": {
          "base_uri": "https://localhost:8080/",
          "height": 486
        }
      },
      "source": [
        "from tensorflow.python.client import device_lib\n",
        "device_lib.list_local_devices()"
      ],
      "execution_count": 0,
      "outputs": [
        {
          "output_type": "execute_result",
          "data": {
            "text/plain": [
              "[name: \"/device:CPU:0\"\n",
              " device_type: \"CPU\"\n",
              " memory_limit: 268435456\n",
              " locality {\n",
              " }\n",
              " incarnation: 17994073896793020103, name: \"/device:XLA_CPU:0\"\n",
              " device_type: \"XLA_CPU\"\n",
              " memory_limit: 17179869184\n",
              " locality {\n",
              " }\n",
              " incarnation: 8371260812203435917\n",
              " physical_device_desc: \"device: XLA_CPU device\", name: \"/device:XLA_GPU:0\"\n",
              " device_type: \"XLA_GPU\"\n",
              " memory_limit: 17179869184\n",
              " locality {\n",
              " }\n",
              " incarnation: 5054400014697130547\n",
              " physical_device_desc: \"device: XLA_GPU device\", name: \"/device:GPU:0\"\n",
              " device_type: \"GPU\"\n",
              " memory_limit: 7304675328\n",
              " locality {\n",
              "   bus_id: 1\n",
              "   links {\n",
              "   }\n",
              " }\n",
              " incarnation: 9991086046301431359\n",
              " physical_device_desc: \"device: 0, name: Tesla P4, pci bus id: 0000:00:04.0, compute capability: 6.1\"]"
            ]
          },
          "metadata": {
            "tags": []
          },
          "execution_count": 12
        }
      ]
    },
    {
      "cell_type": "code",
      "metadata": {
        "id": "iu13uxOFRZGF",
        "colab_type": "code",
        "colab": {}
      },
      "source": [
        "model.save(\"mnist.h5\")"
      ],
      "execution_count": 0,
      "outputs": []
    },
    {
      "cell_type": "code",
      "metadata": {
        "id": "tE7i1ifYVhty",
        "colab_type": "code",
        "colab": {}
      },
      "source": [
        ""
      ],
      "execution_count": 0,
      "outputs": []
    }
  ]
}